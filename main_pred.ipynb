{
  "cells": [
    {
      "cell_type": "markdown",
      "source": [
        "# Set Up"
      ],
      "metadata": {
        "id": "SqMCkO9lTVql"
      }
    },
    {
      "cell_type": "code",
      "execution_count": 1,
      "metadata": {
        "id": "8hr8RdNR7XGF"
      },
      "outputs": [],
      "source": [
        "# Loading the packages\n",
        "import requests # For making HTTP requests to fetch data\n",
        "import pandas as pd # For data manipulation and analysis (DataFrames)\n",
        "import matplotlib.pyplot as plt # For creating plots and visualizations\n",
        "import seaborn as sns # For enhanced statistical data visualizations\n",
        "import numpy as np # For numerical operations\n",
        "import logging # For logging events and errors\n",
        "from typing import Optional # For type hinting, indicating a value can be a type or None\n",
        "from typing import Dict # For type hinting dictionaries\n",
        "from typing import List, Tuple # For type hinting lists and tuples\n",
        "from sklearn.ensemble import RandomForestClassifier # Machine learning model\n",
        "from sklearn.metrics import classification_report, confusion_matrix, accuracy_score, precision_score # For evaluating model performance\n",
        "from sklearn.model_selection import RandomizedSearchCV # For hyperparameter tuning\n",
        "from sklearn.linear_model import LogisticRegression # Machine learning model\n",
        "from sklearn.tree import DecisionTreeClassifier # Machine learning model\n",
        "from xgboost import XGBClassifier # Machine learning model\n",
        "from sklearn.neural_network import MLPClassifier # Machine learning model (Feed Forward Neural Network)\n",
        "from sklearn.tree import plot_tree # Visualizing decision trees"
      ]
    },
    {
      "cell_type": "markdown",
      "source": [
        "# Data Gathering"
      ],
      "metadata": {
        "id": "47TNUfGKTboh"
      }
    },
    {
      "cell_type": "code",
      "source": [
        "# Setup logging\n",
        "logging.basicConfig(level=logging.INFO, format=\"%(asctime)s - %(levelname)s - %(message)s\")\n",
        "\n",
        "def fetch_crypto_price(coin_id: str, days: int = 365, vs_currency: str = \"usd\", interval: str = \"daily\") -> Optional[pd.DataFrame]:\n",
        "    \"\"\"\n",
        "    Fetch historical price data for a given cryptocurrency using the CoinGecko API.\n",
        "\n",
        "    Args:\n",
        "        coin_id (str): The CoinGecko ID of the cryptocurrency (e.g., \"bitcoin\", \"ethereum\").\n",
        "        days (int): Number of past days to retrieve data for.\n",
        "        vs_currency (str): The fiat currency to compare against.\n",
        "        interval (str): Data interval (e.g., \"daily\").\n",
        "\n",
        "    Returns:\n",
        "        pd.DataFrame: DataFrame with timestamp and price columns, or None if an error occurs.\n",
        "    \"\"\"\n",
        "    # Construct the API URL\n",
        "    url = f\"https://api.coingecko.com/api/v3/coins/{coin_id}/market_chart\"\n",
        "    # Define parameters for the API request\n",
        "    params = {\n",
        "        \"vs_currency\": vs_currency,\n",
        "        \"days\": str(days),\n",
        "        \"interval\": interval\n",
        "    }\n",
        "\n",
        "    try:\n",
        "        # Make the GET request to the CoinGecko API\n",
        "        response = requests.get(url, params=params)\n",
        "        # Raise an HTTPError for bad responses (4xx or 5xx)\n",
        "        response.raise_for_status()\n",
        "        # Parse the JSON response\n",
        "        data = response.json()\n",
        "        # Create a pandas DataFrame from the 'prices' data\n",
        "        df = pd.DataFrame(data[\"prices\"], columns=[\"timestamp\", \"price\"])\n",
        "        # Convert the timestamp from milliseconds to datetime objects\n",
        "        df[\"timestamp\"] = pd.to_datetime(df[\"timestamp\"], unit=\"ms\")\n",
        "        # Return the DataFrame\n",
        "        return df\n",
        "    except requests.RequestException as e:\n",
        "        # Log an error if the request fails\n",
        "        logging.error(f\"Failed to fetch data for {coin_id}: {e}\")\n",
        "        # Return None to indicate failure\n",
        "        return None\n",
        "\n",
        "\n",
        "def main():\n",
        "    # Define the coins to fetch\n",
        "    coins = [\"bitcoin\", \"ethereum\", \"ripple\", \"solana\"]\n",
        "    # Dictionary to store the fetched data DataFrames\n",
        "    crypto_data = {}\n",
        "\n",
        "    # Loop through each coin\n",
        "    for coin in coins:\n",
        "        # Fetch data for the current coin\n",
        "        df = fetch_crypto_price(coin)\n",
        "        # Check if data was successfully fetched\n",
        "        if df is not None:\n",
        "            # Log the number of records fetched\n",
        "            logging.info(f\"Fetched {len(df)} records for {coin}.\")\n",
        "            # Print the head of the DataFrame for verification\n",
        "            print(df.head())\n",
        "            # Store the DataFrame in the dictionary\n",
        "            crypto_data[coin] = df\n",
        "        else:\n",
        "            # Log a warning if no data was returned\n",
        "            logging.warning(f\"No data returned for {coin}.\")\n",
        "\n",
        "    # Return the dictionary containing all crypto data\n",
        "    return crypto_data\n",
        "\n",
        "\n",
        "# Execute the main function when the script is run directly\n",
        "if __name__ == \"__main__\":\n",
        "    crypto_data = main()"
      ],
      "metadata": {
        "colab": {
          "base_uri": "https://localhost:8080/"
        },
        "id": "iADROm5zK4xw",
        "outputId": "3f0597ac-b389-419d-b9a2-51d8fe9ca557"
      },
      "execution_count": 2,
      "outputs": [
        {
          "output_type": "stream",
          "name": "stdout",
          "text": [
            "   timestamp         price\n",
            "0 2024-07-10  57988.303512\n",
            "1 2024-07-11  57704.202284\n",
            "2 2024-07-12  57388.192479\n",
            "3 2024-07-13  57899.288957\n",
            "4 2024-07-14  59152.719139\n",
            "   timestamp        price\n",
            "0 2024-07-10  3064.092361\n",
            "1 2024-07-11  3099.710186\n",
            "2 2024-07-12  3102.090230\n",
            "3 2024-07-13  3132.980839\n",
            "4 2024-07-14  3173.504234\n",
            "   timestamp     price\n",
            "0 2024-07-10  0.435768\n",
            "1 2024-07-11  0.438883\n",
            "2 2024-07-12  0.449315\n",
            "3 2024-07-13  0.475004\n",
            "4 2024-07-14  0.526840\n",
            "   timestamp       price\n",
            "0 2024-07-10  141.457067\n",
            "1 2024-07-11  141.922657\n",
            "2 2024-07-12  136.074132\n",
            "3 2024-07-13  139.362193\n",
            "4 2024-07-14  141.675244\n"
          ]
        }
      ]
    },
    {
      "cell_type": "markdown",
      "source": [
        "### 🧩 Data Gathering – Fetching Historical Cryptocurrency Prices\n",
        "\n",
        "In this section, we gather historical daily price data for selected cryptocurrencies using the CoinGecko API.\n",
        "\n",
        "**Key steps:**\n",
        "\n",
        "- **Logging Setup**: Enables logging to track info and error messages during data retrieval.\n",
        "- **Function `fetch_crypto_price`**:\n",
        "  - Inputs: cryptocurrency ID (e.g., `\"bitcoin\"`), number of days (default: 365), comparison currency (default: `\"usd\"`), and interval (`\"daily\"`).\n",
        "  - Sends a GET request to the CoinGecko API.\n",
        "  - Parses the JSON response to extract price data.\n",
        "  - Converts timestamps to `datetime` format.\n",
        "  - Returns a `pandas.DataFrame` with two columns: `timestamp` and `price`.\n",
        "\n",
        "- **Main Routine**:\n",
        "  - Defines a list of coins: `[\"bitcoin\", \"ethereum\", \"ripple\", \"solana\"]`.\n",
        "  - Fetches price data for each coin.\n",
        "  - Logs the number of records retrieved and prints a preview (`df.head()`).\n",
        "  - Stores the results in a dictionary `crypto_data` for use in later stages.\n",
        "\n",
        "> This forms the data foundation for subsequent preprocessing, modeling, and analysis steps.\n"
      ],
      "metadata": {
        "id": "NpyxM-_vG13b"
      }
    },
    {
      "cell_type": "markdown",
      "source": [
        "# Exploratory Data Analysis"
      ],
      "metadata": {
        "id": "uZm82-fjTfd6"
      }
    },
    {
      "cell_type": "code",
      "source": [
        "def plot_crypto_price(data: pd.DataFrame, coin_name: str, color: str = 'blue') -> None:\n",
        "    \"\"\"\n",
        "    Plot the price of a cryptocurrency over time.\n",
        "\n",
        "    Args:\n",
        "        data (pd.DataFrame): DataFrame containing 'timestamp' and 'price'.\n",
        "        coin_name (str): Name of the cryptocurrency (used as title/label).\n",
        "        color (str): Color of the plot line.\n",
        "    \"\"\"\n",
        "    # Check if the DataFrame is None or empty\n",
        "    if data is None or data.empty:\n",
        "        print(f\"No data available to plot for {coin_name}.\")\n",
        "        return\n",
        "\n",
        "    # Create a new figure for the plot\n",
        "    plt.figure(figsize=(10, 5))\n",
        "    # Plot the price over time\n",
        "    plt.plot(data['timestamp'], data['price'], label=coin_name, color=color, linewidth=0.7)\n",
        "\n",
        "    # Set the title of the plot\n",
        "    plt.title(f'{coin_name} Price Over Time', fontsize=14)\n",
        "    # Set the x-axis label\n",
        "    plt.xlabel('Date', fontsize=12)\n",
        "    # Set the y-axis label\n",
        "    plt.ylabel('Price (USD)', fontsize=12)\n",
        "    # Add a grid to the plot\n",
        "    plt.grid(True, alpha=0.6)\n",
        "    # Add a legend to the plot\n",
        "    plt.legend()\n",
        "    # Adjust layout to prevent labels overlapping\n",
        "    plt.tight_layout()\n",
        "    # Display the plot\n",
        "    plt.show()\n",
        "\n",
        "\n",
        "def plot_all_cryptos(crypto_data: Dict[str, pd.DataFrame]) -> None:\n",
        "    \"\"\"\n",
        "    Plot multiple cryptocurrencies from a dictionary of coin name -> DataFrame.\n",
        "\n",
        "    Args:\n",
        "        crypto_data (Dict[str, pd.DataFrame]): Dictionary of coin data.\n",
        "    \"\"\"\n",
        "    # Define a color map for different cryptocurrencies\n",
        "    color_map = {\n",
        "        'bitcoin': 'orange',\n",
        "        'ethereum': 'blue',\n",
        "        'ripple': 'purple',\n",
        "        'solana': 'green'\n",
        "    }\n",
        "\n",
        "    # Iterate through the dictionary of crypto data\n",
        "    for coin, df in crypto_data.items():\n",
        "        # Plot the price for each cryptocurrency, using the defined color map\n",
        "        plot_crypto_price(df, coin.capitalize(), color=color_map.get(coin.lower(), 'gray'))\n",
        "\n",
        "\n",
        "# Example usage if you're continuing from the previous script\n",
        "if __name__ == \"__main__\":\n",
        "    # Fetch the data by calling the main function from the previous script\n",
        "    crypto_data = main()  # from the previous script\n",
        "    # Plot all the fetched cryptocurrencies\n",
        "    plot_all_cryptos(crypto_data)"
      ],
      "metadata": {
        "colab": {
          "base_uri": "https://localhost:8080/",
          "height": 715
        },
        "id": "d4an06C2La2o",
        "outputId": "0245ee75-f791-4ee8-c8f6-a4eb1a99df72"
      },
      "execution_count": 3,
      "outputs": [
        {
          "output_type": "stream",
          "name": "stderr",
          "text": [
            "ERROR:root:Failed to fetch data for ethereum: 429 Client Error: Too Many Requests for url: https://api.coingecko.com/api/v3/coins/ethereum/market_chart?vs_currency=usd&days=365&interval=daily\n",
            "WARNING:root:No data returned for ethereum.\n",
            "ERROR:root:Failed to fetch data for ripple: 429 Client Error: Too Many Requests for url: https://api.coingecko.com/api/v3/coins/ripple/market_chart?vs_currency=usd&days=365&interval=daily\n",
            "WARNING:root:No data returned for ripple.\n",
            "ERROR:root:Failed to fetch data for solana: 429 Client Error: Too Many Requests for url: https://api.coingecko.com/api/v3/coins/solana/market_chart?vs_currency=usd&days=365&interval=daily\n",
            "WARNING:root:No data returned for solana.\n"
          ]
        },
        {
          "output_type": "stream",
          "name": "stdout",
          "text": [
            "   timestamp         price\n",
            "0 2024-07-10  57988.303512\n",
            "1 2024-07-11  57704.202284\n",
            "2 2024-07-12  57388.192479\n",
            "3 2024-07-13  57899.288957\n",
            "4 2024-07-14  59152.719139\n"
          ]
        },
        {
          "output_type": "display_data",
          "data": {
            "text/plain": [
              "<Figure size 1000x500 with 1 Axes>"
            ],
            "image/png": "[encoded data removed]"
          },
          "metadata": {}
        }
      ]
    },
    {
      "cell_type": "markdown",
      "source": [
        "### 📊 Exploratory Data Analysis (EDA) – Visualizing Cryptocurrency Prices\n",
        "\n",
        "In this section, we perform a visual exploration of the historical price data gathered earlier.\n",
        "\n",
        "**Key Components:**\n",
        "\n",
        "- **Function `plot_crypto_price`**:\n",
        "  - Plots the price of a single cryptocurrency over time.\n",
        "  - Accepts a `pandas.DataFrame` with `timestamp` and `price`, a coin name, and an optional plot color.\n",
        "  - Includes useful plot features like titles, axis labels, grid, and legend for clarity.\n",
        "\n",
        "- **Function `plot_all_cryptos`**:\n",
        "  - Iterates through the dictionary `crypto_data` (from Part 1).\n",
        "  - Uses predefined colors to generate individual time series plots for each coin:  \n",
        "    - Bitcoin: orange  \n",
        "    - Ethereum: blue  \n",
        "    - Ripple: purple  \n",
        "    - Solana: green\n",
        "  - Calls `plot_crypto_price` for each cryptocurrency.\n",
        "\n",
        "> These visualizations help identify trends, volatility, and general behavior of each cryptocurrency over time.\n"
      ],
      "metadata": {
        "id": "qS9mgUgTHFzJ"
      }
    },
    {
      "cell_type": "markdown",
      "source": [
        "# Feature Engineering"
      ],
      "metadata": {
        "id": "tf9J_5KOTtWX"
      }
    },
    {
      "cell_type": "code",
      "source": [
        "def add_features(df: pd.DataFrame) -> pd.DataFrame:\n",
        "    \"\"\"\n",
        "    Add technical indicators and rolling features to a cryptocurrency price DataFrame.\n",
        "\n",
        "    Features:\n",
        "        - MA_2: 2-day moving average\n",
        "        - MA_4: 4-day moving average\n",
        "        - Volatility_3: 3-day rolling standard deviation\n",
        "        - RSI_3: Relative Strength Index with 3-day window\n",
        "        - MACD: Moving Average Convergence Divergence (12/26 EMA)\n",
        "        - Signal_Line: MACD Signal Line (9 EMA)\n",
        "\n",
        "    Args:\n",
        "        df (pd.DataFrame): Must contain 'price' column.\n",
        "\n",
        "    Returns:\n",
        "        pd.DataFrame: Original DataFrame with new features added.\n",
        "    \"\"\"\n",
        "\n",
        "    # Check if the 'price' column exists in the DataFrame\n",
        "    if 'price' not in df.columns:\n",
        "        raise ValueError(\"DataFrame must contain a 'price' column.\")\n",
        "\n",
        "    # Create a copy of the DataFrame to avoid modifying the original\n",
        "    df = df.copy()\n",
        "\n",
        "    # Moving averages\n",
        "    # Calculate the 2-day rolling mean of the 'price'\n",
        "    df['MA_2'] = df['price'].rolling(window=2).mean()\n",
        "    # Calculate the 4-day rolling mean of the 'price'\n",
        "    df['MA_4'] = df['price'].rolling(window=4).mean()\n",
        "\n",
        "    # Volatility\n",
        "    # Calculate the 3-day rolling standard deviation of the 'price'\n",
        "    df['Volatility_3'] = df['price'].rolling(window=3).std()\n",
        "\n",
        "    # RSI calculation (3-day)\n",
        "    def compute_rsi(series: pd.Series, period: int = 3) -> pd.Series:\n",
        "        # Calculate the difference in price from the previous day\n",
        "        delta = series.diff()\n",
        "        # Calculate gains (positive price changes)\n",
        "        gain = delta.clip(lower=0)\n",
        "        # Calculate losses (negative price changes)\n",
        "        loss = -delta.clip(upper=0)\n",
        "        # Calculate the average gain over the specified period\n",
        "        avg_gain = gain.rolling(window=period).mean()\n",
        "        # Calculate the average loss over the specified period\n",
        "        avg_loss = loss.rolling(window=period).mean()\n",
        "        # Calculate the Relative Strength (RS)\n",
        "        rs = avg_gain / avg_loss\n",
        "        # Calculate the Relative Strength Index (RSI)\n",
        "        return 100 - (100 / (1 + rs))\n",
        "\n",
        "    # Compute the 3-day RSI and add it as a new column\n",
        "    df['RSI_3'] = compute_rsi(df['price'], period=3)\n",
        "\n",
        "    # MACD and Signal Line\n",
        "    # Calculate the 12-day Exponential Moving Average (EMA)\n",
        "    ema_short = df['price'].ewm(span=12, adjust=False).mean()\n",
        "    # Calculate the 26-day Exponential Moving Average (EMA)\n",
        "    ema_long = df['price'].ewm(span=26, adjust=False).mean()\n",
        "    # Calculate the Moving Average Convergence Divergence (MACD)\n",
        "    df['MACD'] = ema_short - ema_long\n",
        "    # Calculate the 9-day EMA of the MACD (Signal Line)\n",
        "    df['Signal_Line'] = df['MACD'].ewm(span=9, adjust=False).mean()\n",
        "\n",
        "    # Return the DataFrame with the added features\n",
        "    return df"
      ],
      "metadata": {
        "id": "BpdB2t5iLzZH"
      },
      "execution_count": 4,
      "outputs": []
    },
    {
      "cell_type": "code",
      "source": [
        "# Add features to the ethereum data if available\n",
        "if 'ethereum' in crypto_data:\n",
        "    eth_data = add_features(crypto_data['ethereum'])\n",
        "else:\n",
        "    print(\"ethereum not found in crypto_data\")\n",
        "# Add features to the bitcoin data if available\n",
        "if 'bitcoin' in crypto_data:\n",
        "    btc_data = add_features(crypto_data['bitcoin'])\n",
        "else:\n",
        "    print(\"bitcoin not found in crypto_data\")\n",
        "# Add features to the ripple data if available\n",
        "if 'ripple' in crypto_data:\n",
        "    xrp_data = add_features(crypto_data['ripple'])\n",
        "else:\n",
        "    print(\"ripple not found in crypto_data\")\n",
        "# Add features to the solana data if available\n",
        "if 'solana' in crypto_data:\n",
        "    sol_data = add_features(crypto_data['solana'])\n",
        "else:\n",
        "    print(\"solana not found in crypto_data\")"
      ],
      "metadata": {
        "colab": {
          "base_uri": "https://localhost:8080/"
        },
        "id": "67u4KZOoSPrH",
        "outputId": "0e02ca63-31ae-4e33-90f5-6c799f5346b5"
      },
      "execution_count": 5,
      "outputs": [
        {
          "output_type": "stream",
          "name": "stdout",
          "text": [
            "ethereum not found in crypto_data\n",
            "ripple not found in crypto_data\n",
            "solana not found in crypto_data\n"
          ]
        }
      ]
    },
    {
      "cell_type": "code",
      "execution_count": 6,
      "metadata": {
        "id": "iedI3zSM7XHY",
        "outputId": "b9615f58-adb9-4181-a246-b973570a4dfd",
        "colab": {
          "base_uri": "https://localhost:8080/",
          "height": 211
        }
      },
      "outputs": [
        {
          "output_type": "error",
          "ename": "NameError",
          "evalue": "name 'eth_data' is not defined",
          "traceback": [
            "\u001b[0;31m---------------------------------------------------------------------------\u001b[0m",
            "\u001b[0;31mNameError\u001b[0m                                 Traceback (most recent call last)",
            "\u001b[0;32m/tmp/ipython-input-6-1530156571.py\u001b[0m in \u001b[0;36m<cell line: 0>\u001b[0;34m()\u001b[0m\n\u001b[1;32m     20\u001b[0m \u001b[0mbtc_data\u001b[0m \u001b[0;34m=\u001b[0m \u001b[0mcreate_target_and_clean\u001b[0m\u001b[0;34m(\u001b[0m\u001b[0mbtc_data\u001b[0m\u001b[0;34m)\u001b[0m\u001b[0;34m\u001b[0m\u001b[0;34m\u001b[0m\u001b[0m\n\u001b[1;32m     21\u001b[0m \u001b[0;31m# Create target and clean the ethereum data\u001b[0m\u001b[0;34m\u001b[0m\u001b[0;34m\u001b[0m\u001b[0m\n\u001b[0;32m---> 22\u001b[0;31m \u001b[0meth_data\u001b[0m \u001b[0;34m=\u001b[0m \u001b[0mcreate_target_and_clean\u001b[0m\u001b[0;34m(\u001b[0m\u001b[0meth_data\u001b[0m\u001b[0;34m)\u001b[0m\u001b[0;34m\u001b[0m\u001b[0;34m\u001b[0m\u001b[0m\n\u001b[0m\u001b[1;32m     23\u001b[0m \u001b[0;31m# Create target and clean the ripple data\u001b[0m\u001b[0;34m\u001b[0m\u001b[0;34m\u001b[0m\u001b[0m\n\u001b[1;32m     24\u001b[0m \u001b[0mxrp_data\u001b[0m \u001b[0;34m=\u001b[0m \u001b[0mcreate_target_and_clean\u001b[0m\u001b[0;34m(\u001b[0m\u001b[0mxrp_data\u001b[0m\u001b[0;34m)\u001b[0m\u001b[0;34m\u001b[0m\u001b[0;34m\u001b[0m\u001b[0m\n",
            "\u001b[0;31mNameError\u001b[0m: name 'eth_data' is not defined"
          ]
        }
      ],
      "source": [
        "def create_target_and_clean(df: pd.DataFrame) -> pd.DataFrame:\n",
        "    \"\"\"\n",
        "    Create a binary target variable based on whether the price increased from the previous day.\n",
        "    Drops rows with any NaN values (e.g., from moving averages or other lag features).\n",
        "\n",
        "    Args:\n",
        "        df (pd.DataFrame): DataFrame with a 'price' column.\n",
        "\n",
        "    Returns:\n",
        "        pd.DataFrame: Cleaned DataFrame with 'target' column.\n",
        "    \"\"\"\n",
        "    # Create a copy of the DataFrame to avoid modifying the original\n",
        "    df = df.copy()\n",
        "    # Create the 'target' column: 1 if price increased from previous day, 0 otherwise\n",
        "    df['target'] = (df['price'] > df['price'].shift(1)).astype(int)\n",
        "    # Drop any rows that contain NaN values (introduced by rolling averages, diff, etc.)\n",
        "    return df.dropna()\n",
        "\n",
        "# Create target and clean the bitcoin data\n",
        "btc_data = create_target_and_clean(btc_data)\n",
        "# Create target and clean the ethereum data\n",
        "eth_data = create_target_and_clean(eth_data)\n",
        "# Create target and clean the ripple data\n",
        "xrp_data = create_target_and_clean(xrp_data)\n",
        "# Create target and clean the solana data\n",
        "sol_data = create_target_and_clean(sol_data)"
      ]
    },
    {
      "cell_type": "markdown",
      "source": [
        "### 🛠️ Feature Engineering – Technical Indicators & Target Creation\n",
        "\n",
        "In this section, we enhance the raw price data by engineering meaningful features and creating a target variable suitable for supervised learning.\n",
        "\n",
        "**1. Technical Indicators:**\n",
        "\n",
        "Using a custom function, we compute several technical indicators that capture trends, momentum, and volatility in the price time series:\n",
        "\n",
        "- `MA_2` and `MA_4`: 2-day and 4-day moving averages\n",
        "- `Volatility_3`: 3-day rolling standard deviation\n",
        "- `RSI_3`: Relative Strength Index over 3 days\n",
        "- `MACD`: Difference between 12-day and 26-day exponential moving averages\n",
        "- `Signal_Line`: 9-day EMA of the MACD\n",
        "\n",
        "These indicators are added to each cryptocurrency’s dataset using the `add_features()` function.\n",
        "\n",
        "**2. Target Variable Creation:**\n",
        "\n",
        "To enable binary classification (e.g., predicting whether the price will increase), we define a binary `target`:\n",
        "\n",
        "- `target = 1` if the price increased compared to the previous day\n",
        "- `target = 0` otherwise\n",
        "\n",
        "This is done using the `create_target_and_clean()` function, which also removes rows containing `NaN` values introduced by rolling computations.\n"
      ],
      "metadata": {
        "id": "1B2zkgZLHcXb"
      }
    },
    {
      "cell_type": "markdown",
      "source": [
        "# Data Splitting"
      ],
      "metadata": {
        "id": "-XHkkfZMT3r3"
      }
    },
    {
      "cell_type": "code",
      "execution_count": null,
      "metadata": {
        "id": "YndljU3d7XHb"
      },
      "outputs": [],
      "source": [
        "def split_by_date(dfs: List[pd.DataFrame], split_date: str) -> Tuple[pd.DataFrame, pd.DataFrame]:\n",
        "    \"\"\"\n",
        "    Split multiple DataFrames into train and test sets based on a date.\n",
        "\n",
        "    Args:\n",
        "        dfs (List[pd.DataFrame]): List of DataFrames to split (must contain 'timestamp' column).\n",
        "        split_date (str): Date string in 'YYYY-MM-DD' format.\n",
        "\n",
        "    Returns:\n",
        "        Tuple[pd.DataFrame, pd.DataFrame]: (train_df, test_df) concatenated from all input DataFrames.\n",
        "    \"\"\"\n",
        "    # Create a list of DataFrames for the training set (timestamps before the split date)\n",
        "    train_parts = [df[df['timestamp'] < split_date] for df in dfs]\n",
        "    # Create a list of DataFrames for the test set (timestamps on or after the split date)\n",
        "    test_parts = [df[df['timestamp'] >= split_date] for df in dfs]\n",
        "\n",
        "    # Concatenate the training DataFrames into a single DataFrame\n",
        "    train_df = pd.concat(train_parts, ignore_index=True)\n",
        "    # Concatenate the test DataFrames into a single DataFrame\n",
        "    test_df = pd.concat(test_parts, ignore_index=True)\n",
        "\n",
        "    # Return the training and test DataFrames\n",
        "    return train_df, test_df\n",
        "\n",
        "# Split the data into training and test sets using the specified split date\n",
        "train_df, test_df = split_by_date(\n",
        "    [btc_data, eth_data, xrp_data, sol_data],\n",
        "    split_date='2025-04-15'\n",
        ")\n",
        "\n",
        "# Print the shapes of the training and test DataFrames\n",
        "print(train_df.shape)\n",
        "print(test_df.shape)\n",
        "# Print the total number of rows to verify the split\n",
        "print(train_df.shape[0] + test_df.shape[0])"
      ]
    },
    {
      "cell_type": "code",
      "execution_count": null,
      "metadata": {
        "id": "oIgtVVS87XHe"
      },
      "outputs": [],
      "source": [
        "def print_class_distribution(df: pd.DataFrame, name: str) -> None:\n",
        "    \"\"\"\n",
        "    Print class counts and proportion of '1's in the 'target' column for a given DataFrame.\n",
        "\n",
        "    Args:\n",
        "        df (pd.DataFrame): DataFrame containing a 'target' column.\n",
        "        name (str): Name of the dataset (e.g., 'Train', 'Test').\n",
        "    \"\"\"\n",
        "    # Print the name of the DataFrame\n",
        "    print(f'{name} df:')\n",
        "    # Get the counts of each class in the 'target' column\n",
        "    class_counts = df['target'].value_counts()\n",
        "    # Print the class counts\n",
        "    print(class_counts)\n",
        "\n",
        "    # Calculate the proportion of the '1' class (price increase)\n",
        "    share_increase = class_counts.get(1, 0) / class_counts.sum()\n",
        "    # Print the share of increasing targets, formatted as a percentage\n",
        "    print(f'Share of increasing targets: {share_increase:.2%}\\n')\n",
        "\n",
        "# Print target distributions for the training set\n",
        "print_class_distribution(train_df, \"Train\")\n",
        "# Print target distributions for the test set\n",
        "print_class_distribution(test_df, \"Test\")"
      ]
    },
    {
      "cell_type": "code",
      "execution_count": null,
      "metadata": {
        "id": "5PuAmVW_7XHe"
      },
      "outputs": [],
      "source": [
        "# Define the list of feature columns to be used for training\n",
        "feature_cols = ['MA_2', 'MA_4', 'Volatility_3', 'RSI_3', 'MACD', 'Signal_Line']\n",
        "\n",
        "# Create the feature matrix (X) for the training set\n",
        "X_train = train_df[feature_cols]\n",
        "# Create the target vector (y) for the training set (using .values ensures a 1D numpy array which is often required by sklearn)\n",
        "y_train = train_df['target']  # Use 1D array for compatibility with sklearn\n",
        "\n",
        "# Create the feature matrix (X) for the test set\n",
        "X_test = test_df[feature_cols]\n",
        "# Create the target vector (y) for the test set\n",
        "y_test = test_df['target']"
      ]
    },
    {
      "cell_type": "markdown",
      "source": [
        "### 🔀 Data Splitting and Preparation for Modeling\n",
        "\n",
        "In this section, we split the engineered datasets into training and test sets based on a specific date to ensure a realistic temporal separation for model evaluation.\n",
        "\n",
        "**Steps:**\n",
        "\n",
        "- **Function `split_by_date()`**:  \n",
        "  Accepts a list of DataFrames (one per cryptocurrency) and splits each into training and test subsets based on the `timestamp` column using a given cutoff date (`2025-04-15`).  \n",
        "  Training data includes all records before the split date; test data includes records on and after the split date.  \n",
        "  The split parts are then concatenated into unified training and test DataFrames.\n",
        "\n",
        "- **Class Distribution Check**:  \n",
        "  The `print_class_distribution()` function prints the counts of the binary target classes (`0` for price decrease or no change, `1` for increase) and their proportion within each dataset to check for class balance.\n",
        "\n",
        "- **Feature and Target Matrix Construction**:  \n",
        "  Defines the feature columns derived from technical indicators (`MA_2`, `MA_4`, `Volatility_3`, `RSI_3`, `MACD`, `Signal_Line`).  \n",
        "  Constructs feature matrices `X_train`, `X_test` and target vectors `y_train`, `y_test` ready for machine learning model training and evaluation.\n",
        "\n",
        "---\n",
        "\n",
        "This setup ensures that the models are trained on past data and evaluated on unseen future data, preserving temporal integrity.\n"
      ],
      "metadata": {
        "id": "MNWNgM1hHwQZ"
      }
    },
    {
      "cell_type": "markdown",
      "source": [
        "# Model Selection"
      ],
      "metadata": {
        "id": "zMsDVetGT71L"
      }
    },
    {
      "cell_type": "code",
      "source": [
        "# Model hyperparameter grids for tuning using RandomizedSearchCV\n",
        "param_grids = {\n",
        "    'logistic_regression': {\n",
        "        'C': np.logspace(-4, 4, 20), # Regularization strength\n",
        "        'penalty': ['l2'], # Type of regularization penalty\n",
        "        'solver': ['lbfgs', 'liblinear', 'newton-cg', 'newton-cholesky', 'sag', 'saga'] # Algorithm to use for optimization\n",
        "    },\n",
        "    'decision_tree': {\n",
        "        'max_depth': np.arange(1, 100), # Maximum depth of the tree\n",
        "        'min_samples_split': np.arange(10, 100), # Minimum number of samples required to split an internal node\n",
        "        'min_samples_leaf': np.arange(5, 100), # Minimum number of samples required to be at a leaf node\n",
        "        'criterion': ['gini', 'entropy'] # Function to measure the quality of a split\n",
        "    },\n",
        "    'random_forest': {\n",
        "        'n_estimators': np.arange(100, 1001, 100), # Number of trees in the forest\n",
        "        'max_depth': np.arange(1, 100), # Maximum depth of the trees\n",
        "        'min_samples_split': np.arange(10, 100), # Minimum number of samples required to split an internal node\n",
        "        'min_samples_leaf': np.arange(5, 100), # Minimum number of samples required to be at a leaf node\n",
        "        'max_features': ['sqrt', 'log2'] # Number of features to consider when looking for the best split\n",
        "    },\n",
        "    'xgboost': {\n",
        "        'n_estimators': np.arange(100, 1001, 100), # Number of boosting rounds (trees)\n",
        "        'max_depth': np.arange(1, 11), # Maximum depth of a tree\n",
        "        'learning_rate': np.logspace(-4, -1, 10), # Step size shrinkage used in update to prevent overfitting\n",
        "        'subsample': [0.6, 0.8, 1.0] # Fraction of samples used to train each tree\n",
        "    },\n",
        "    'mlp': {\n",
        "        'hidden_layer_sizes': [(50,), (100,), (50, 50), (100, 50)], # The ith element represents the number of neurons in the ith hidden layer\n",
        "        'activation': ['tanh', 'relu'], # Activation function for the hidden layer\n",
        "        'solver': ['adam', 'sgd'], # The solver for weight optimization\n",
        "        'learning_rate': ['constant', 'adaptive'] # Learning rate schedule for weight updates\n",
        "    }\n",
        "}"
      ],
      "metadata": {
        "id": "jRj6IXz07zhi"
      },
      "execution_count": null,
      "outputs": []
    },
    {
      "cell_type": "code",
      "source": [
        "# Dictionaries to store evaluation results for accuracy and precision\n",
        "accuracy_results = {'Model': [], 'Train Accuracy': [], 'Test Accuracy': []}\n",
        "precision_results = {'Model': [], 'Train Precision': [], 'Test Precision': []}\n",
        "\n",
        "def tune_evaluate_and_store_results(model, param_grid, model_name, X_train, y_train, X_test, y_test, n_iter=10, cv=5):\n",
        "    \"\"\"\n",
        "    Performs randomized hyperparameter tuning, evaluates the best model, and stores results.\n",
        "\n",
        "    Args:\n",
        "        model: The scikit-learn model to tune.\n",
        "        param_grid: The dictionary of hyperparameters to search.\n",
        "        model_name (str): The name of the model.\n",
        "        X_train (pd.DataFrame): Training features.\n",
        "        y_train (pd.Series): Training target.\n",
        "        X_test (pd.DataFrame): Test features.\n",
        "        y_test (pd.Series): Test target.\n",
        "        n_iter (int): Number of parameter settings that are sampled.\n",
        "        cv (int): Number of folds in cross-validation.\n",
        "\n",
        "    Returns:\n",
        "        The best estimator found by RandomizedSearchCV.\n",
        "    \"\"\"\n",
        "    # Perform RandomizedSearchCV to find the best hyperparameters\n",
        "    search = RandomizedSearchCV(model, param_grid, scoring='precision', cv=cv, n_iter=n_iter, n_jobs=-1, verbose=1)\n",
        "    # Fit the RandomizedSearchCV to the training data\n",
        "    search.fit(X_train, y_train)\n",
        "    # Get the best model found during the search\n",
        "    best_model = search.best_estimator_\n",
        "\n",
        "    # Make predictions on the training and test sets using the best model\n",
        "    y_train_pred = best_model.predict(X_train)\n",
        "    y_test_pred = best_model.predict(X_test)\n",
        "\n",
        "    # Calculate evaluation metrics\n",
        "    train_accuracy = accuracy_score(y_train, y_train_pred)\n",
        "    test_accuracy = accuracy_score(y_test, y_test_pred)\n",
        "    # Calculate weighted precision for handling potential class imbalance\n",
        "    train_precision = precision_score(y_train, y_train_pred, average='weighted')\n",
        "    test_precision = precision_score(y_test, y_test_pred, average='weighted')\n",
        "\n",
        "    # Store the calculated metrics in the results dictionaries\n",
        "    accuracy_results['Model'].append(model_name)\n",
        "    accuracy_results['Train Accuracy'].append(train_accuracy)\n",
        "    accuracy_results['Test Accuracy'].append(test_accuracy)\n",
        "\n",
        "    precision_results['Model'].append(model_name)\n",
        "    precision_results['Train Precision'].append(train_precision)\n",
        "    precision_results['Test Precision'].append(test_precision)\n",
        "\n",
        "    # Print the optimal hyperparameters found for the model\n",
        "    print(f'Optimal parameters for {model_name}: {search.best_params_}')\n",
        "\n",
        "    # Return the best trained model\n",
        "    return best_model"
      ],
      "metadata": {
        "id": "XtXNWYBc_QF_"
      },
      "execution_count": null,
      "outputs": []
    },
    {
      "cell_type": "code",
      "source": [
        "# Define a list of tuples, each containing a model instance, its parameter grid, and its name\n",
        "models_to_run = [\n",
        "    (LogisticRegression(max_iter=1000), param_grids['logistic_regression'], \"Logistic Regression\"),\n",
        "    (DecisionTreeClassifier(), param_grids['decision_tree'], \"Decision Tree\"),\n",
        "    (RandomForestClassifier(), param_grids['random_forest'], \"Random Forest\"),\n",
        "    (XGBClassifier(eval_metric='logloss'), param_grids['xgboost'], \"XGBoost\"),\n",
        "    (MLPClassifier(max_iter=500), param_grids['mlp'], \"Feed Forward NN\"),\n",
        "]\n",
        "\n",
        "# Dictionary to store the best trained model for each type\n",
        "best_models = {}\n",
        "\n",
        "# Iterate through the list of models to run\n",
        "for model, param_grid, name in models_to_run:\n",
        "    # Print a message indicating which model is being trained\n",
        "    print(f\"Training {name}...\")\n",
        "    # Tune, evaluate, and store results for the current model\n",
        "    # Store the best trained model in the best_models dictionary\n",
        "    best_models[name] = tune_evaluate_and_store_results(model, param_grid, name, X_train, y_train, X_test, y_test)"
      ],
      "metadata": {
        "id": "5oiiZsbh-9dK"
      },
      "execution_count": null,
      "outputs": []
    },
    {
      "cell_type": "markdown",
      "source": [
        "### 🤖 Model Selection and Hyperparameter Tuning\n",
        "\n",
        "In this section, multiple machine learning models are trained and optimized using randomized hyperparameter search to predict the binary target variable.\n",
        "\n",
        "**Models Included:**\n",
        "\n",
        "- Logistic Regression\n",
        "- Decision Tree\n",
        "- Random Forest\n",
        "- XGBoost\n",
        "- Feed Forward Neural Network (MLP)\n",
        "\n",
        "**Process:**\n",
        "\n",
        "- Defined hyperparameter grids specific to each model, covering key parameters such as regularization strength, tree depth, number of estimators, learning rates, and network architecture.\n",
        "- Used `RandomizedSearchCV` with 5-fold cross-validation to efficiently explore hyperparameter combinations, optimizing for weighted precision to handle class imbalance.\n",
        "- For each model, the best hyperparameters were identified, and performance metrics (accuracy and precision) were computed on both training and test sets.\n",
        "- Results (accuracy and precision) are stored for easy comparison across models.\n",
        "- The best estimator for each model is saved for downstream evaluation.\n",
        "\n",
        "> This systematic tuning ensures models are well-calibrated and maximizes their predictive performance on unseen data.\n"
      ],
      "metadata": {
        "id": "tFi0E0RUIMfv"
      }
    },
    {
      "cell_type": "markdown",
      "source": [
        "## Results"
      ],
      "metadata": {
        "id": "1PjQ287zT_bh"
      }
    },
    {
      "cell_type": "code",
      "source": [
        "# Convert the dictionaries storing results into pandas DataFrames for easier display\n",
        "accuracy_df = pd.DataFrame(accuracy_results)\n",
        "precision_df = pd.DataFrame(precision_results)\n",
        "\n",
        "# Display the accuracy results table\n",
        "print(\"Accuracy Results Table\")\n",
        "print(accuracy_df)\n",
        "\n",
        "# Display the precision results table\n",
        "print(\"\\nPrecision Results Table\")\n",
        "print(precision_df)"
      ],
      "metadata": {
        "id": "zpWYv9QXNlWc"
      },
      "execution_count": null,
      "outputs": []
    },
    {
      "cell_type": "markdown",
      "source": [
        "**Analysis:**\n",
        "\n",
        "- **Random Forest** and **XGBoost** models show the best overall performance on the test set, achieving the highest accuracy and precision (~66%). This indicates strong predictive power with balanced handling of the classes.\n",
        "- The **Decision Tree** and **Logistic Regression** models performed moderately well but with slightly lower test accuracy and precision.\n",
        "- The **Feed Forward Neural Network** performed worst among all models, with notably lower accuracy and precision on both training and test data, suggesting possible underfitting or insufficient training.\n",
        "- Training accuracies are generally higher than test accuracies, indicating some degree of overfitting, particularly for the tree-based models.\n",
        "- Precision scores closely mirror accuracy, which confirms consistent class-wise performance.\n",
        "\n",
        "> Based on these results, tree-based ensemble models like Random Forest and XGBoost are the most promising candidates for the price movement classification task."
      ],
      "metadata": {
        "id": "kQoD1g9XInVh"
      }
    },
    {
      "cell_type": "code",
      "source": [
        "# Get best logistic regression model\n",
        "best_logreg = best_models[\"Logistic Regression\"]\n",
        "\n",
        "# Extract coefficients and feature names\n",
        "coefficients = best_logreg.coef_[0]\n",
        "features = X_train.columns\n",
        "\n",
        "# Create a DataFrame\n",
        "logreg_coef_df = pd.DataFrame({\n",
        "    'Feature': features,\n",
        "    'Coefficient': coefficients\n",
        "}).sort_values(by='Coefficient', ascending=False)\n",
        "\n",
        "# Plot\n",
        "plt.figure(figsize=(8, 5))\n",
        "sns.barplot(x='Coefficient', y='Feature', data=logreg_coef_df, palette='coolwarm')\n",
        "plt.axvline(x=0, color='black', linestyle='--')\n",
        "plt.title(\"Logistic Regression Coefficients\")\n",
        "plt.tight_layout()\n",
        "plt.show()\n"
      ],
      "metadata": {
        "id": "TUtoEHNQFsRp"
      },
      "execution_count": null,
      "outputs": []
    },
    {
      "cell_type": "markdown",
      "source": [
        "**Logistic Regression Coefficients**\n",
        "\n",
        "This plot shows the importance of features in the logistic regression model.\n",
        "\n",
        "- **RSI_3** has the largest positive coefficient, making it the most influential predictor.\n",
        "- Other features like `MA_4`, `Signal_Line`, `Volatility_3`, `MACD`, and `MA_2` have minimal impact.\n",
        "- The model relies heavily on `RSI_3` for predicting price direction.\n",
        "\n",
        "This suggests that `RSI_3` dominates the linear decision boundary in this setup.\n"
      ],
      "metadata": {
        "id": "nzgIriK8kSw-"
      }
    },
    {
      "cell_type": "code",
      "source": [
        "# Retrieve best decision tree model\n",
        "best_dtree = best_models[\"Decision Tree\"]\n",
        "\n",
        "plt.figure(figsize=(20, 10))\n",
        "plot_tree(best_dtree,\n",
        "          feature_names=X_train.columns,\n",
        "          class_names=['Decrease', 'Increase'],\n",
        "          filled=True,\n",
        "          rounded=True,\n",
        "          fontsize=10)\n",
        "plt.title(\"Decision Tree Visualization\")\n",
        "plt.show()"
      ],
      "metadata": {
        "id": "bumRAivZDUf5"
      },
      "execution_count": null,
      "outputs": []
    },
    {
      "cell_type": "markdown",
      "source": [
        "**Decision Tree Analysis**\n",
        "\n",
        "The decision tree classifies stock price movement (*Increase* vs. *Decrease*) using technical indicators.\n",
        "\n",
        "- **Root split**: `RSI_3 ≤ 66.258`, nearly balanced classes (546 ↑, 558 ↓).\n",
        "- **Left subtree** (`RSI_3` very low): favors *Decrease*, especially with low `MACD` and `Signal_Line`.\n",
        "- **Right subtree** (`RSI_3` high): favors *Increase*, especially with high `MA_2` and `Volatility_3`.\n",
        "\n",
        "**Key Features**\n",
        "- `RSI_3`, `MACD`, `MA_2`, `Signal_Line`, `MA_4`, `Volatility_3`\n",
        "\n",
        "The tree offers clear decision rules, but may overfit. For the future pruning or using ensemble methods can be considered for better performance.\n"
      ],
      "metadata": {
        "id": "CgcpdgxejIlP"
      }
    },
    {
      "cell_type": "code",
      "source": [
        "# Get Random Forest model and its feature importances\n",
        "best_rf = best_models[\"Random Forest\"]\n",
        "rf_importances = best_rf.feature_importances_\n",
        "\n",
        "# Create a DataFrame\n",
        "rf_importance_df = pd.DataFrame({\n",
        "    'Feature': X_train.columns,\n",
        "    'Importance': rf_importances\n",
        "}).sort_values(by='Importance', ascending=False)\n",
        "\n",
        "# Plot\n",
        "plt.figure(figsize=(8, 5))\n",
        "sns.barplot(x='Importance', y='Feature', data=rf_importance_df, palette='crest')\n",
        "plt.title(\"Random Forest Feature Importance\")\n",
        "plt.tight_layout()\n",
        "plt.show()\n"
      ],
      "metadata": {
        "id": "D-JJsq8AEvRz"
      },
      "execution_count": null,
      "outputs": []
    },
    {
      "cell_type": "markdown",
      "source": [
        "**Random Forest Feature Importance**\n",
        "\n",
        "The Random Forest model highlights the most influential features:\n",
        "\n",
        "- **RSI_3** is by far the most important predictor.\n",
        "- Other features like  `Volatility_3`, `MACD`, `Signal_Line`, `MA_4`, and `MA_2` have minimal impact follow at a distance.\n",
        "\n",
        "This indicates that the model relies primarily on `RSI_3` for decision-making, with some support from the other variables. The features `Volatility_3`, `MACD`, `Signal_Line`, `MA_4`, and `MA_2` have a higher influence on the decision-making of the Random Forest compared to the decision tree.\n"
      ],
      "metadata": {
        "id": "ntUZKhz6k2c3"
      }
    },
    {
      "cell_type": "code",
      "source": [
        "# Get XGBoost model and its feature importances\n",
        "best_xgb = best_models[\"XGBoost\"]\n",
        "xgb_importances = best_xgb.feature_importances_\n",
        "\n",
        "# Create a DataFrame\n",
        "xgb_importance_df = pd.DataFrame({\n",
        "    'Feature': X_train.columns,\n",
        "    'Importance': xgb_importances\n",
        "}).sort_values(by='Importance', ascending=False)\n",
        "\n",
        "# Plot\n",
        "plt.figure(figsize=(8, 5))\n",
        "sns.barplot(x='Importance', y='Feature', data=xgb_importance_df, palette='viridis')\n",
        "plt.title(\"XGBoost Feature Importance\")\n",
        "plt.tight_layout()\n",
        "plt.show()\n"
      ],
      "metadata": {
        "id": "4cXXXOjKESqs"
      },
      "execution_count": null,
      "outputs": []
    },
    {
      "cell_type": "markdown",
      "source": [
        "**XGBoost Feature Importance**\n",
        "\n",
        "The XGBoost model highlights the most influential features:\n",
        "\n",
        "- **RSI_3** is by far the most important predictor.\n",
        "- Other features like  `Volatility_3`, `MACD`, `Signal_Line`, `MA_4`, and `MA_2` have less impact.\n",
        "\n",
        "This indicates that the model relies primarily on `RSI_3` for decision-making, with some support from the other variables. The features `Volatility_3`, `MACD`, `Signal_Line`, `MA_4`, and `MA_2` have a higher influence on the decision-making of the XGBoost compared to the decision tree.\n"
      ],
      "metadata": {
        "id": "XAQjjKc8lzcn"
      }
    }
  ],
  "metadata": {
    "kernelspec": {
      "display_name": "Python 3",
      "name": "python3"
    },
    "language_info": {
      "codemirror_mode": {
        "name": "ipython",
        "version": 3
      },
      "file_extension": ".py",
      "mimetype": "text/x-python",
      "name": "python",
      "nbconvert_exporter": "python",
      "pygments_lexer": "ipython3",
      "version": "3.10.9"
    },
    "colab": {
      "provenance": [],
      "gpuType": "T4"
    },
    "accelerator": "GPU"
  },
  "nbformat": 4,
  "nbformat_minor": 0
}